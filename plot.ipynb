{
 "nbformat": 4,
 "nbformat_minor": 2,
 "metadata": {
  "language_info": {
   "name": "python",
   "codemirror_mode": {
    "name": "ipython",
    "version": 3
   },
   "version": "3.6.4-final"
  },
  "orig_nbformat": 2,
  "file_extension": ".py",
  "mimetype": "text/x-python",
  "name": "python",
  "npconvert_exporter": "python",
  "pygments_lexer": "ipython3",
  "version": 3,
  "kernelspec": {
   "name": "python36464bitvenvvirtualenvea602f5a09c449978477b895558b36ca",
   "display_name": "Python 3.6.4 64-bit ('venv': virtualenv)"
  }
 },
 "cells": [
  {
   "cell_type": "code",
   "execution_count": 504,
   "metadata": {},
   "outputs": [],
   "source": [
    "import pandas as pd\n",
    "import numpy as np\n",
    "from pylab import *\n",
    "import seaborn as sns"
   ]
  },
  {
   "cell_type": "code",
   "execution_count": 505,
   "metadata": {},
   "outputs": [
    {
     "name": "stdout",
     "output_type": "stream",
     "text": "<class 'pandas.core.series.Series'>\n"
    }
   ],
   "source": [
    "colnames = [\"Wall time\",\"Step\",\"Value\"]\n",
    "data1 = pd.read_csv(\"time_stamp.csv\")\n",
    "r1 = data1.Value.rolling(window=20)\n",
    "r2 = data1.Value.rolling(window=1)\n",
    "print(type(data1.Value))"
   ]
  },
  {
   "cell_type": "code",
   "execution_count": 506,
   "metadata": {},
   "outputs": [],
   "source": [
    "data2 = pd.read_csv(\"rewards.csv\")\n",
    "r3 = data2.Value.rolling(window=50)\n",
    "r4 = data2.Value.rolling(window=20)\n",
    "# print(data.Value)"
   ]
  },
  {
   "cell_type": "code",
   "execution_count": 507,
   "metadata": {},
   "outputs": [],
   "source": [
    "\n",
    "x1 = np.array(data1.Step.to_list())\n",
    "y1 = np.array(r1.mean().to_list())\n",
    "y2 = np.array(r2.mean().to_list())\n",
    "\n",
    "x2 = np.array(data2.Step.to_list())\n",
    "y3 = np.array(r3.mean().to_list())\n",
    "y4 = np.array(r4.mean().to_list())\n",
    "# print(y3)"
   ]
  },
  {
   "cell_type": "code",
   "execution_count": 508,
   "metadata": {},
   "outputs": [],
   "source": [
    "def perc(data):\n",
    "   median = np.zeros(data.shape[0])\n",
    "   perc_25 = np.zeros(data.shape[0])\n",
    "   perc_75 = np.zeros(data.shape[0])\n",
    "   for i in range(0, len(median)):\n",
    "       median[i] = np.median(data[:i])\n",
    "       perc_25[i] = np.percentile(data[:i], 25)\n",
    "       perc_75[i] = np.percentile(data[:i], 75)\n",
    "   return median, perc_25, perc_75"
   ]
  },
  {
   "cell_type": "code",
   "execution_count": 509,
   "metadata": {},
   "outputs": [],
   "source": [
    "# med_low_mut, perc_25_low_mut, perc_75_low_mut = perc(np.array([data1.Value.to_list()]))\n",
    "# fill_between(x1, perc_25_low_mut, perc_75_low_mut, alpha=0.25, linewidth=1, color='#B22400')\n"
   ]
  },
  {
   "cell_type": "code",
   "execution_count": 510,
   "metadata": {},
   "outputs": [],
   "source": [
    "from mpl_toolkits.axes_grid1 import host_subplot\n",
    "import mpl_toolkits.axisartist as AA\n",
    "\n",
    "with sns.axes_style(\"darkgrid\"):\n",
    "    host = host_subplot(111, axes_class=AA.Axes)\n",
    "    subplots_adjust(right=0.75)\n",
    "    par1 = host.twinx()\n",
    "    par2 = host.twinx()\n",
    "    par1.axis[\"right\"].toggle(all=True)\n",
    "    host.set_xlabel(\"Episodes\")\n",
    "    host.set_ylabel(\"Duration Per Episode\")\n",
    "    host.set_xlim(0,x2[-1])\n",
    "    par1.set_ylabel(\"Rewards Per Step\")\n",
    "    p1, = host.plot(x1, y1,\"#983352\",label=\"DPE\")\n",
    "    p2, = par1.plot(x2, y3,\"#4B2D73\",label=\"RPS\")\n",
    "    print(data2.Value.min(), data2.Value.max())\n",
    "    par1.set_ylim(-8e-3, 0.020)\n",
    "    host.legend()\n",
    "\n",
    "    std1 = r1.std()\n",
    "    raw = data1.Value.to_list()\n",
    "    host.fill_between(x1, y1 - std1, y1 + std1, alpha = 0.3,color=p1.get_color(),linewidth=0)\n",
    "\n",
    "    std3 = r3.std()\n",
    "    par1.fill_between(x2, y3-std3, y3 + std3, alpha = 0.3, color = p2.get_color(),linewidth=0)\n",
    "\n",
    "    draw()\n",
    "    show()"
   ]
  },
  {
   "cell_type": "code",
   "execution_count": null,
   "metadata": {},
   "outputs": [],
   "source": []
  },
  {
   "cell_type": "code",
   "execution_count": null,
   "metadata": {},
   "outputs": [],
   "source": []
  }
 ]
}